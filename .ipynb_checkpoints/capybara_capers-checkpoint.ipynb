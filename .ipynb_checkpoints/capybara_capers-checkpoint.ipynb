{
 "cells": [
  {
   "cell_type": "markdown",
   "metadata": {},
   "source": [
    "<h1>Capy Capers</h1>\n",
    "<h2>The Capybara</h2>\n",
    "<p>Truly one of earth's most glorious creatures. Gaze upon its magnificence and weep for your failings. The capybara is uncorncerned. The capybara abides.</p>\n",
    "<img src=pool_capy.jpg>\n",
    "<p>In celebration of the world's chillest animal, let's use it to look at some fairly basic but incredibly powerful multivariate data analysis tools and processes without getting too wound up. Be like the capybara and just let it soak in...</p>\n",
    "<h2>Let's Get Started</h2>\n",
    "<p>First import the libraries and functions needed. If you don't have one or more of these libraries installed and use pip, then you can use this code inside your notebook:</p>\n",
    "```python\n",
    "import pip\n",
    "pip.main['install','x']\n",
    "```\n",
    "where x is the name of the library."
   ]
  },
  {
   "cell_type": "code",
   "execution_count": 56,
   "metadata": {},
   "outputs": [],
   "source": [
    "from zooKeeper import *\n",
    "import sklearn\n",
    "import pandas as pd\n",
    "import random\n",
    "import numpy as np\n",
    "from sklearn.preprocessing import scale\n",
    "from sklearn.decomposition import PCA\n",
    "import matplotlib.pyplot as plt"
   ]
  },
  {
   "cell_type": "markdown",
   "metadata": {},
   "source": [
    "<h2>Make A Zoo</h2>\n",
    "<p>Use the makeZoo function to create your zoo. All you need to tell it is how many capybaras you want. It will then return a Pandas dataframe with measurements for each capybara.</p>\n",
    "<h4>Capybara Measurments in the Dataset</h4>\n",
    "* Torso Height\n",
    "* Torso Width\n",
    "* Head Height\n",
    "* Head Width\n",
    "* Ear Length"
   ]
  },
  {
   "cell_type": "code",
   "execution_count": 10,
   "metadata": {
    "collapsed": true
   },
   "outputs": [],
   "source": [
    "myZoo = makeZoo(200)"
   ]
  },
  {
   "cell_type": "markdown",
   "metadata": {},
   "source": [
    "<h2>Get to Know Your Capybaras</h2>\n",
    "<p>As a zookeeper, you're really into your animals. Also we only know how many we have. Is there only one breed? Two breeds? We don't know right now, but we're going to use principal component analysis to find out!</p>\n",
    "\n",
    "<h3>Wait, Principal Component Analysis?</h3>\n",
    "<p>Principal component analysis (PCA) is a very useful way of exploring data.</p>"
   ]
  },
  {
   "cell_type": "code",
   "execution_count": 89,
   "metadata": {},
   "outputs": [
    {
     "name": "stdout",
     "output_type": "stream",
     "text": [
      "PC1 captures 84% of variance\n",
      "PC2 captures 15% of variance\n",
      "This model captures 99% of variance\n"
     ]
    }
   ],
   "source": [
    "#Apply mean-centring and scale to standard deviation\n",
    "scaledZoo = scale(myZoo)\n",
    "myModel = PCA(n_components=2, svd_solver='full')\n",
    "myModel.fit(scaledZoo)\n",
    "myScores = myModel.transform(scaledZoo)\n",
    "\n",
    "print 'PC1 captures {:0.0%} of variance'.format(myModel.explained_variance_ratio_[0])\n",
    "print 'PC2 captures {:0.0%} of variance'.format(myModel.explained_variance_ratio_[1])\n",
    "print 'This model captures {:0.0%} of variance'.format(myModel.explained_variance_ratio_[0]+myModel.explained_variance_ratio_[1])"
   ]
  },
  {
   "cell_type": "markdown",
   "metadata": {},
   "source": [
    "<h2>Score Evaluation</h2>\n",
    "\n",
    "<p>If you'd like to be a bit more concise, the exectued code can be done in two lines, but I find it loses readability:</p>\n",
    "```python\n",
    "plt.scatter([i[0] for i in myScores], [i[1] for i in myScores])\n",
    "plt.show()\n",
    "```"
   ]
  },
  {
   "cell_type": "code",
   "execution_count": 90,
   "metadata": {},
   "outputs": [
    {
     "data": {
      "image/png": "[encoded data removed]",
      "text/plain": [
       "<matplotlib.figure.Figure at 0x109fefe50>"
      ]
     },
     "metadata": {},
     "output_type": "display_data"
    }
   ],
   "source": [
    "#Extract sample scores for PC1 and PC2 from the scores array\n",
    "pc1 = [i[0] for i in myScores]\n",
    "pc2 = [i[1] for i in myScores]\n",
    "\n",
    "#Plot PC1 against PC2\n",
    "plt.scatter(pc1, pc2)\n",
    "plt.show()"
   ]
  },
  {
   "cell_type": "markdown",
   "metadata": {},
   "source": [
    "<h2>Lack-of-Fit Statistics</h2>\n",
    "<p>Q residuals and Hotelling's T<sup>2</sup></p>"
   ]
  },
  {
   "cell_type": "code",
   "execution_count": 61,
   "metadata": {},
   "outputs": [
    {
     "data": {
      "image/png": "[encoded data removed]",
      "text/plain": [
       "<matplotlib.figure.Figure at 0x109e9cc90>"
      ]
     },
     "metadata": {},
     "output_type": "display_data"
    }
   ],
   "source": [
    "hotellingT = scaledZoo.sum(axis=1)\n",
    "plt.hist(hotellingT)\n",
    "plt.title(r'Hotelling T$^2$ for myZoo')\n",
    "plt.xlabel(r'Hotelling T$^2$')\n",
    "plt.ylabel(r'Count of Capybaras')\n",
    "plt.show()"
   ]
  },
  {
   "cell_type": "code",
   "execution_count": null,
   "metadata": {
    "collapsed": true
   },
   "outputs": [],
   "source": []
  }
 ],
 "metadata": {
  "kernelspec": {
   "display_name": "Python 2",
   "language": "python",
   "name": "python2"
  },
  "language_info": {
   "codemirror_mode": {
    "name": "ipython",
    "version": 2
   },
   "file_extension": ".py",
   "mimetype": "text/x-python",
   "name": "python",
   "nbconvert_exporter": "python",
   "pygments_lexer": "ipython2",
   "version": "2.7.11"
  }
 },
 "nbformat": 4,
 "nbformat_minor": 2
}

{
 "cells": [
  {
   "cell_type": "markdown",
   "metadata": {},
   "source": [
    "<h1>Capy Capers</h1>\n",
    "<h2>The Capybara</h2>\n",
    "<p>Truly one of earth's most glorious creatures. Gaze upon its magnificence and weep for your failings. The capybara is uncorncerned. The capybara abides.</p>\n",
    "<img src=Images/pool_capy.jpg>\n",
    "<p>In celebration of the world's chillest animal, let's use it to look at some fairly basic but incredibly powerful multivariate data analysis tools and processes without getting too wound up. Be like the capybara and just let it soak in...</p>\n",
    "<h2>Let's Get Started</h2>\n",
    "<p>First import the libraries and functions needed. If you don't have one or more of these libraries installed and use pip, then you can use this code inside your notebook:</p>\n",
    "```python\n",
    "import pip\n",
    "pip.main['install','x']\n",
    "```\n",
    "where x is the name of the library."
   ]
  },
  {
   "cell_type": "code",
   "execution_count": 76,
   "metadata": {
    "collapsed": true
   },
   "outputs": [],
   "source": [
    "from zooKeeper import *\n",
    "import pandas as pd\n",
    "import random\n",
    "import numpy as np\n",
    "from sklearn.preprocessing import scale\n",
    "from sklearn.decomposition import PCA\n",
    "import matplotlib.pyplot as plt"
   ]
  },
  {
   "cell_type": "markdown",
   "metadata": {},
   "source": [
    "<h2>Make A Zoo</h2>\n",
    "<p>Use the makeZoo function to create your zoo. All you need to tell it is how many capybaras you want. It will then return a Pandas dataframe with measurements for each capybara.</p>\n",
    "<h4>Capybara Measurments in the Dataset</h4>\n",
    "* Torso Height\n",
    "* Torso Width\n",
    "* Head Height\n",
    "* Head Width\n",
    "* Ear Length"
   ]
  },
  {
   "cell_type": "code",
   "execution_count": 77,
   "metadata": {},
   "outputs": [],
   "source": [
    "myZoo = makeZoo(200)"
   ]
  },
  {
   "cell_type": "markdown",
   "metadata": {},
   "source": [
    "<h2>Get to Know Your Capybaras</h2>\n",
    "<p>As a zookeeper, you're really into your animals. Also we only know how many we have. Is there only one breed? Two breeds? We don't know right now, but we're going to use principal component analysis to find out!</p>\n",
    "\n",
    "<h3>Wait, Principal Component Analysis?</h3>\n",
    "<p>Principal component analysis (PCA) is a very useful way of exploring data.</p>"
   ]
  },
  {
   "cell_type": "code",
   "execution_count": 78,
   "metadata": {},
   "outputs": [
    {
     "name": "stdout",
     "output_type": "stream",
     "text": [
      "PC1 captures 83% of variance\n",
      "PC2 captures 16% of variance\n",
      "This model captures 99% of variance\n"
     ]
    }
   ],
   "source": [
    "#Apply mean-centring and scale to standard deviation\n",
    "scaledZoo = scale(myZoo)\n",
    "myModel = PCA(n_components=2, svd_solver='full')\n",
    "myModel.fit(scaledZoo)\n",
    "myScores = myModel.transform(scaledZoo)\n",
    "\n",
    "print 'PC1 captures {:0.0%} of variance'.format(myModel.explained_variance_ratio_[0])\n",
    "print 'PC2 captures {:0.0%} of variance'.format(myModel.explained_variance_ratio_[1])\n",
    "print 'This model captures {:0.0%} of variance'.format(myModel.explained_variance_ratio_[0]+myModel.explained_variance_ratio_[1])"
   ]
  },
  {
   "cell_type": "markdown",
   "metadata": {},
   "source": [
    "<p>Oh wow! 99% of all variance in the dataset is captured in just two principal components. But is this model actually any <strong>good</strong>?</p>"
   ]
  },
  {
   "cell_type": "markdown",
   "metadata": {},
   "source": [
    "<h2>Made a Model... Now What?</h2>\n",
    "<p>When you create a model, how do you know it is a <i>good</i> model?</p>\n",
    "<p>Okay, that's a loaded question because the definition of 'good' will depend on what you will use the model for. If we were doing predictive analysis (i.e. given some data, what is the likely outcome?), then we could use statistics such as misclassification rates, Pearson R<sup>2</sup>, and many other metrics.</p>\n",
    "<p><strong>But</strong> we're doing exploratory analysis, not predicitive analysis. So how can we measure if our model is really capturing the true shape of capybaras and identify where the model doens't work? We don't have a response variable, but we do have very important model statistics:</p>\n",
    "<h2>Lack-of-Fit Statistics</h2>\n",
    "<p>A lack-of-fit statistic measures the um... lack of fit between the dataset and a model. (I will absolutely use tautologies when neccessary.)</p>\n",
    "<p>There are two lack-of-fit statistics that we'll look at:</p>\n",
    "<ol>\n",
    "<li>Q residuals</li>\n",
    "<li>Hotelling's T<sup>2</sup></li>\n",
    "</ol>\n",
    "<h3>Q Residuals</h3>\n",
    "<p>Ever bought a shirt from a store and even though it might be your normal size on the label, it's just not quite the right fit? The shoulders are a bit too narrow, the sleeves too short? Boom, you've got yourself a Q residual problem.</p>\n",
    "<p>The Q residual essentially looks at where the model says a sample should be in n-dimensional space and compares that to where the sample actually is. It's really as simple as that.</p>\n",
    "<p>Mathematically, it's also pretty simple if you focus on what the different variables represent:</p>\n",
    "<img src=Images/Q_res_1.png>\n",
    "<p>If you dig a little further into how you calculated the errors residuals, you can also use this formula:</p>\n",
    "<img src=Images/Q_res_2.png>\n",
    "<p>An identity matrix is a matrix where the upper-left to lower-right diagonal is ones and all other positions are zeroes, e.g.</p>\n",
    "<p>1 0 0<br>0 1 0<br>0 0 1</p>\n",
    "\n",
    "<h2>Let's Do This!</h2>"
   ]
  },
  {
   "cell_type": "code",
   "execution_count": 79,
   "metadata": {},
   "outputs": [],
   "source": [
    "# First let's get the loadings for our principal components. We just grab these from the model.\n",
    "\n",
    "p_k = myModel.components_\n",
    "\n",
    "# Next create an identity matrix for the dataset using numpy (np)\n",
    "# We have 5 variables in the dataset so we need the identity matrix to be a 5 x 5\n",
    "\n",
    "identity_matrix = np.identity(n=5)\n",
    "\n",
    "#Now we can calculate the middle bit of the equation\n",
    "\n",
    "middle_bit = identity_matrix - np.dot(p_k.transpose(),p_k)"
   ]
  },
  {
   "cell_type": "markdown",
   "metadata": {},
   "source": [
    "<p>Wait, shouldn't that be:</p>\n",
    "\n",
    "```python\n",
    "middle_bit = identity_matrix - np.dot(p_k.transpose(),p_k)\n",
    "```\n",
    "\n",
    "<p>We need the matrice shapes to go [5,5] - [5,2][2,5] but when we pull the componenet loadings (p_k), we're given them as [2,5]. No biggie! We just switched things around to get the right order!</p>"
   ]
  },
  {
   "cell_type": "code",
   "execution_count": 80,
   "metadata": {},
   "outputs": [],
   "source": [
    "# Next we need to calculate the Q residual for each sample\n",
    "# I'm going to split the x_i*middle_bit*x_i.transpose into two bits for readability\n",
    "# We'll do this by iterating through the dataset, but think about how you could make this cleaner/faster!\n",
    "\n",
    "q_residuals = []\n",
    "\n",
    "for i in range(0,len(scaledZoo)):\n",
    "    x_i = scaledZoo[i]\n",
    "    \n",
    "    # First bit x_i*middle_bit\n",
    "    q_i = np.dot(x_i,middle_bit)\n",
    "    \n",
    "    # Second half (x_i*middle_bit)*x_i.transpose()\n",
    "    q_i = np.dot(q_i,x_i.transpose())\n",
    "    \n",
    "    q_residuals.append(q_i)"
   ]
  },
  {
   "cell_type": "code",
   "execution_count": 81,
   "metadata": {},
   "outputs": [
    {
     "data": {
      "image/png": "[encoded data removed]",
      "text/plain": [
       "<matplotlib.figure.Figure at 0x10a1b9610>"
      ]
     },
     "metadata": {},
     "output_type": "display_data"
    }
   ],
   "source": [
    "plt.hist(q_residuals)\n",
    "plt.title(r'Q Residuals for myZoo')\n",
    "plt.xlabel(r'Q Residuals')\n",
    "plt.ylabel(r'Count of Capybaras')\n",
    "plt.show()"
   ]
  },
  {
   "cell_type": "code",
   "execution_count": 17,
   "metadata": {},
   "outputs": [
    {
     "data": {
      "image/png": "[encoded data removed]",
      "text/plain": [
       "<matplotlib.figure.Figure at 0x10a17c190>"
      ]
     },
     "metadata": {},
     "output_type": "display_data"
    }
   ],
   "source": [
    "hotellingT = scaledZoo.sum(axis=1)\n",
    "plt.hist(hotellingT)\n",
    "plt.title(r'Hotelling T$^2$ for myZoo')\n",
    "plt.xlabel(r'Hotelling T$^2$')\n",
    "plt.ylabel(r'Count of Capybaras')\n",
    "plt.show()"
   ]
  },
  {
   "cell_type": "code",
   "execution_count": null,
   "metadata": {
    "collapsed": true
   },
   "outputs": [],
   "source": []
  }
 ],
 "metadata": {
  "kernelspec": {
   "display_name": "Python 2",
   "language": "python",
   "name": "python2"
  },
  "language_info": {
   "codemirror_mode": {
    "name": "ipython",
    "version": 2
   },
   "file_extension": ".py",
   "mimetype": "text/x-python",
   "name": "python",
   "nbconvert_exporter": "python",
   "pygments_lexer": "ipython2",
   "version": "2.7.11"
  }
 },
 "nbformat": 4,
 "nbformat_minor": 2
}
